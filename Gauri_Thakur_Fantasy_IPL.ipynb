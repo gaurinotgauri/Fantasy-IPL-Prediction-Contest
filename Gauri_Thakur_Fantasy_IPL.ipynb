{
  "nbformat": 4,
  "nbformat_minor": 0,
  "metadata": {
    "colab": {
      "provenance": [],
      "authorship_tag": "ABX9TyOoNJ53UZMrUKl+/HgjJH9A",
      "include_colab_link": true
    },
    "kernelspec": {
      "name": "python3",
      "display_name": "Python 3"
    },
    "language_info": {
      "name": "python"
    }
  },
  "cells": [
    {
      "cell_type": "markdown",
      "metadata": {
        "id": "view-in-github",
        "colab_type": "text"
      },
      "source": [
        "<a href=\"https://colab.research.google.com/github/gaurinotgauri/Fantasy-IPL-Prediction-Contest/blob/main/Gauri_Thakur_Fantasy_IPL.ipynb\" target=\"_parent\"><img src=\"https://colab.research.google.com/assets/colab-badge.svg\" alt=\"Open In Colab\"/></a>"
      ]
    },
    {
      "cell_type": "code",
      "execution_count": null,
      "metadata": {
        "id": "kKah3ATbj48t"
      },
      "outputs": [],
      "source": [
        "#loading libraries\n",
        "import pandas as pd\n",
        "import numpy as np\n",
        "import seaborn as sns\n",
        "import matplotlib.pyplot as plt\n",
        "from sklearn.preprocessing import LabelEncoder\n",
        "from sklearn.preprocessing import OneHotEncoder\n",
        "from sklearn.model_selection import train_test_split\n",
        "from sklearn.ensemble import RandomForestRegressor\n",
        "from xgboost import XGBClassifier\n",
        "from sklearn.metrics import mean_squared_error,accuracy_score, classification_report"
      ]
    },
    {
      "cell_type": "code",
      "source": [
        "#loading datasets\n",
        "dft = pd.read_csv('/content/train_data_Total_FP.csv')\n",
        "dftt = pd.read_csv('/content/test_data_Total_FP (1).csv')\n",
        "dfc = pd.read_csv('/content/train_data_Captain.csv')\n",
        "dfct = pd.read_csv('/content/test_data_Captain (1).csv')\n",
        "dist = pd.read_csv('/content/distribution.csv')\n",
        "sub = pd.read_csv('/content/sample_submission.csv')"
      ],
      "metadata": {
        "id": "R8qB3R4GkI06"
      },
      "execution_count": null,
      "outputs": []
    },
    {
      "cell_type": "markdown",
      "source": [
        "###Analyzing data"
      ],
      "metadata": {
        "id": "7STZa_5Klw3L"
      }
    },
    {
      "cell_type": "code",
      "source": [
        "dft.shape, dfc.shape, dfct.shape, dfct.shape"
      ],
      "metadata": {
        "colab": {
          "base_uri": "https://localhost:8080/"
        },
        "id": "XPsa_EVLlMtI",
        "outputId": "e65a5235-0c4a-4aa0-ac26-8d392373a66d"
      },
      "execution_count": null,
      "outputs": [
        {
          "output_type": "execute_result",
          "data": {
            "text/plain": [
              "((21616, 27), (21616, 27), (709, 26), (709, 26))"
            ]
          },
          "metadata": {},
          "execution_count": 683
        }
      ]
    },
    {
      "cell_type": "code",
      "source": [
        "#to check if both prediction and classification datatsets are same\n",
        "def check_columns_equality(df1, df2):\n",
        "    return df1.iloc[:, :26].equals(df2.iloc[:, :26])\n",
        "\n",
        "#prediction train and test\n",
        "print(\"The first 26 columns of dft and dfc are exactly the same.\" if check_columns_equality(dft, dfc) else \"The first 26 columns of dft and dfc are not the same.\")\n",
        "\n",
        "#classification train and test\n",
        "print(\"The first 26 columns of dftt and dfct are exactly the same.\" if check_columns_equality(dftt, dfct) else \"The first 26 columns of dftt and dfct are not the same.\")\n"
      ],
      "metadata": {
        "colab": {
          "base_uri": "https://localhost:8080/"
        },
        "id": "2oRn5MlakRl_",
        "outputId": "2ab25287-1d8b-4ee6-8608-a34ccbdf9611"
      },
      "execution_count": null,
      "outputs": [
        {
          "output_type": "stream",
          "name": "stdout",
          "text": [
            "The first 26 columns of dft and dfc are exactly the same.\n",
            "The first 26 columns of dftt and dfct are exactly the same.\n"
          ]
        }
      ]
    },
    {
      "cell_type": "markdown",
      "source": [
        "##Prediction Total_FP"
      ],
      "metadata": {
        "id": "PweoaV8cISOc"
      }
    },
    {
      "cell_type": "markdown",
      "source": [
        "Analysis of datasets"
      ],
      "metadata": {
        "id": "I_mMHCcHIiVO"
      }
    },
    {
      "cell_type": "code",
      "source": [
        "#checking data types and filling of columns\n",
        "dft.info()"
      ],
      "metadata": {
        "colab": {
          "base_uri": "https://localhost:8080/"
        },
        "id": "qreCjYdClKQP",
        "outputId": "9a5df001-5e86-4a0c-ac6d-5e2b48fdcf5f"
      },
      "execution_count": null,
      "outputs": [
        {
          "output_type": "stream",
          "name": "stdout",
          "text": [
            "<class 'pandas.core.frame.DataFrame'>\n",
            "RangeIndex: 21616 entries, 0 to 21615\n",
            "Data columns (total 27 columns):\n",
            " #   Column                 Non-Null Count  Dtype  \n",
            "---  ------                 --------------  -----  \n",
            " 0   match_id               21616 non-null  int64  \n",
            " 1   season                 21616 non-null  int64  \n",
            " 2   match_name             21616 non-null  object \n",
            " 3   home_team              21616 non-null  object \n",
            " 4   away_team              21616 non-null  object \n",
            " 5   venue                  21616 non-null  object \n",
            " 6   batting_innings        21616 non-null  float64\n",
            " 7   bowling_innings        21616 non-null  float64\n",
            " 8   Player_name            21616 non-null  object \n",
            " 9   Starting_11            21616 non-null  float64\n",
            " 10  bowling_team_bowl      11716 non-null  object \n",
            " 11  batting_team_bat       15154 non-null  object \n",
            " 12  prev_runs              14699 non-null  float64\n",
            " 13  prev_balls             14699 non-null  float64\n",
            " 14  prev_sixes             14699 non-null  float64\n",
            " 15  prev_fours             14699 non-null  float64\n",
            " 16  prev_wickets           11335 non-null  float64\n",
            " 17  prev_conceded          11335 non-null  float64\n",
            " 18  prev_Overs_Bowled      11335 non-null  object \n",
            " 19  prev_catches           6682 non-null   float64\n",
            " 20  prev_Dream Team        20939 non-null  float64\n",
            " 21  prev_Total_FP          20939 non-null  float64\n",
            " 22  prev_overs             11335 non-null  float64\n",
            " 23  prev_fielding_heroics  6682 non-null   float64\n",
            " 24  prev_duck              21616 non-null  int64  \n",
            " 25  luck                   21616 non-null  int64  \n",
            " 26  Total_FP               21616 non-null  float64\n",
            "dtypes: float64(15), int64(4), object(8)\n",
            "memory usage: 4.5+ MB\n"
          ]
        }
      ]
    },
    {
      "cell_type": "code",
      "source": [
        "#checking data types and filling of columns\n",
        "dftt.info()"
      ],
      "metadata": {
        "colab": {
          "base_uri": "https://localhost:8080/"
        },
        "id": "oU6SMswmlXUE",
        "outputId": "8708ec6d-9fa3-4a98-8381-6cdeb4f85afe"
      },
      "execution_count": null,
      "outputs": [
        {
          "output_type": "stream",
          "name": "stdout",
          "text": [
            "<class 'pandas.core.frame.DataFrame'>\n",
            "RangeIndex: 709 entries, 0 to 708\n",
            "Data columns (total 26 columns):\n",
            " #   Column                 Non-Null Count  Dtype  \n",
            "---  ------                 --------------  -----  \n",
            " 0   match_id               709 non-null    int64  \n",
            " 1   season                 709 non-null    int64  \n",
            " 2   match_name             709 non-null    object \n",
            " 3   home_team              709 non-null    object \n",
            " 4   away_team              709 non-null    object \n",
            " 5   venue                  709 non-null    object \n",
            " 6   batting_innings        709 non-null    float64\n",
            " 7   bowling_innings        709 non-null    float64\n",
            " 8   Player_name            709 non-null    object \n",
            " 9   Starting_11            709 non-null    float64\n",
            " 10  bowling_team_bowl      374 non-null    object \n",
            " 11  batting_team_bat       527 non-null    object \n",
            " 12  prev_runs              503 non-null    float64\n",
            " 13  prev_balls             503 non-null    float64\n",
            " 14  prev_sixes             503 non-null    float64\n",
            " 15  prev_fours             503 non-null    float64\n",
            " 16  prev_wickets           354 non-null    float64\n",
            " 17  prev_conceded          354 non-null    float64\n",
            " 18  prev_Overs_Bowled      354 non-null    object \n",
            " 19  prev_catches           241 non-null    float64\n",
            " 20  prev_Dream Team        681 non-null    float64\n",
            " 21  prev_Total_FP          681 non-null    float64\n",
            " 22  prev_overs             354 non-null    float64\n",
            " 23  prev_fielding_heroics  241 non-null    float64\n",
            " 24  prev_duck              709 non-null    int64  \n",
            " 25  luck                   709 non-null    int64  \n",
            "dtypes: float64(14), int64(4), object(8)\n",
            "memory usage: 144.1+ KB\n"
          ]
        }
      ]
    },
    {
      "cell_type": "code",
      "source": [
        "#prediction train dataset top 5 rows\n",
        "dft.head()"
      ],
      "metadata": {
        "colab": {
          "base_uri": "https://localhost:8080/",
          "height": 516
        },
        "id": "EdP92eValamT",
        "outputId": "974fc50b-d646-4f30-8774-e329002887ab"
      },
      "execution_count": null,
      "outputs": [
        {
          "output_type": "execute_result",
          "data": {
            "text/plain": [
              "   match_id  season match_name home_team away_team  \\\n",
              "0         1    2008   CSK v DC       CSK        DC   \n",
              "1         2    2008    MI v DC        MI        DC   \n",
              "2         3    2008   DC v CSK        DC       CSK   \n",
              "3         4    2008    RR v DC        RR        DC   \n",
              "4         5    2008   KKR v DC       KKR        DC   \n",
              "\n",
              "                                      venue  batting_innings  bowling_innings  \\\n",
              "0  MA Chidambaram Stadium, Chepauk, Chennai              2.0              1.0   \n",
              "1        Dr DY Patil Sports Academy, Mumbai              2.0              1.0   \n",
              "2               Arun Jaitley Stadium, Delhi              1.0              2.0   \n",
              "3            Sawai Mansingh Stadium, Jaipur              1.0              2.0   \n",
              "4                     Eden Gardens, Kolkata              2.0              1.0   \n",
              "\n",
              "      Player_name  Starting_11  ... prev_conceded prev_Overs_Bowled  \\\n",
              "0  AB de Villiers          4.0  ...           NaN               NaN   \n",
              "1  AB de Villiers          4.0  ...           NaN               NaN   \n",
              "2  AB de Villiers          4.0  ...           NaN               NaN   \n",
              "3  AB de Villiers          4.0  ...           NaN               NaN   \n",
              "4  AB de Villiers          4.0  ...           NaN               NaN   \n",
              "\n",
              "   prev_catches  prev_Dream Team  prev_Total_FP  prev_overs  \\\n",
              "0           NaN              NaN            NaN         NaN   \n",
              "1           NaN              1.0           32.0         NaN   \n",
              "2           1.0              0.0           37.0         NaN   \n",
              "3           2.0              0.0           18.0         NaN   \n",
              "4           0.0              1.0           36.0         NaN   \n",
              "\n",
              "   prev_fielding_heroics  prev_duck luck  Total_FP  \n",
              "0                    NaN          0   98      32.0  \n",
              "1                    NaN          0   35      37.0  \n",
              "2                    0.0          0   79      18.0  \n",
              "3                    0.0          1   33      36.0  \n",
              "4                    1.0          0   82      13.0  \n",
              "\n",
              "[5 rows x 27 columns]"
            ],
            "text/html": [
              "\n",
              "  <div id=\"df-9b7fc943-c4c7-4c69-968d-931bdcb50fd6\" class=\"colab-df-container\">\n",
              "    <div>\n",
              "<style scoped>\n",
              "    .dataframe tbody tr th:only-of-type {\n",
              "        vertical-align: middle;\n",
              "    }\n",
              "\n",
              "    .dataframe tbody tr th {\n",
              "        vertical-align: top;\n",
              "    }\n",
              "\n",
              "    .dataframe thead th {\n",
              "        text-align: right;\n",
              "    }\n",
              "</style>\n",
              "<table border=\"1\" class=\"dataframe\">\n",
              "  <thead>\n",
              "    <tr style=\"text-align: right;\">\n",
              "      <th></th>\n",
              "      <th>match_id</th>\n",
              "      <th>season</th>\n",
              "      <th>match_name</th>\n",
              "      <th>home_team</th>\n",
              "      <th>away_team</th>\n",
              "      <th>venue</th>\n",
              "      <th>batting_innings</th>\n",
              "      <th>bowling_innings</th>\n",
              "      <th>Player_name</th>\n",
              "      <th>Starting_11</th>\n",
              "      <th>...</th>\n",
              "      <th>prev_conceded</th>\n",
              "      <th>prev_Overs_Bowled</th>\n",
              "      <th>prev_catches</th>\n",
              "      <th>prev_Dream Team</th>\n",
              "      <th>prev_Total_FP</th>\n",
              "      <th>prev_overs</th>\n",
              "      <th>prev_fielding_heroics</th>\n",
              "      <th>prev_duck</th>\n",
              "      <th>luck</th>\n",
              "      <th>Total_FP</th>\n",
              "    </tr>\n",
              "  </thead>\n",
              "  <tbody>\n",
              "    <tr>\n",
              "      <th>0</th>\n",
              "      <td>1</td>\n",
              "      <td>2008</td>\n",
              "      <td>CSK v DC</td>\n",
              "      <td>CSK</td>\n",
              "      <td>DC</td>\n",
              "      <td>MA Chidambaram Stadium, Chepauk, Chennai</td>\n",
              "      <td>2.0</td>\n",
              "      <td>1.0</td>\n",
              "      <td>AB de Villiers</td>\n",
              "      <td>4.0</td>\n",
              "      <td>...</td>\n",
              "      <td>NaN</td>\n",
              "      <td>NaN</td>\n",
              "      <td>NaN</td>\n",
              "      <td>NaN</td>\n",
              "      <td>NaN</td>\n",
              "      <td>NaN</td>\n",
              "      <td>NaN</td>\n",
              "      <td>0</td>\n",
              "      <td>98</td>\n",
              "      <td>32.0</td>\n",
              "    </tr>\n",
              "    <tr>\n",
              "      <th>1</th>\n",
              "      <td>2</td>\n",
              "      <td>2008</td>\n",
              "      <td>MI v DC</td>\n",
              "      <td>MI</td>\n",
              "      <td>DC</td>\n",
              "      <td>Dr DY Patil Sports Academy, Mumbai</td>\n",
              "      <td>2.0</td>\n",
              "      <td>1.0</td>\n",
              "      <td>AB de Villiers</td>\n",
              "      <td>4.0</td>\n",
              "      <td>...</td>\n",
              "      <td>NaN</td>\n",
              "      <td>NaN</td>\n",
              "      <td>NaN</td>\n",
              "      <td>1.0</td>\n",
              "      <td>32.0</td>\n",
              "      <td>NaN</td>\n",
              "      <td>NaN</td>\n",
              "      <td>0</td>\n",
              "      <td>35</td>\n",
              "      <td>37.0</td>\n",
              "    </tr>\n",
              "    <tr>\n",
              "      <th>2</th>\n",
              "      <td>3</td>\n",
              "      <td>2008</td>\n",
              "      <td>DC v CSK</td>\n",
              "      <td>DC</td>\n",
              "      <td>CSK</td>\n",
              "      <td>Arun Jaitley Stadium, Delhi</td>\n",
              "      <td>1.0</td>\n",
              "      <td>2.0</td>\n",
              "      <td>AB de Villiers</td>\n",
              "      <td>4.0</td>\n",
              "      <td>...</td>\n",
              "      <td>NaN</td>\n",
              "      <td>NaN</td>\n",
              "      <td>1.0</td>\n",
              "      <td>0.0</td>\n",
              "      <td>37.0</td>\n",
              "      <td>NaN</td>\n",
              "      <td>0.0</td>\n",
              "      <td>0</td>\n",
              "      <td>79</td>\n",
              "      <td>18.0</td>\n",
              "    </tr>\n",
              "    <tr>\n",
              "      <th>3</th>\n",
              "      <td>4</td>\n",
              "      <td>2008</td>\n",
              "      <td>RR v DC</td>\n",
              "      <td>RR</td>\n",
              "      <td>DC</td>\n",
              "      <td>Sawai Mansingh Stadium, Jaipur</td>\n",
              "      <td>1.0</td>\n",
              "      <td>2.0</td>\n",
              "      <td>AB de Villiers</td>\n",
              "      <td>4.0</td>\n",
              "      <td>...</td>\n",
              "      <td>NaN</td>\n",
              "      <td>NaN</td>\n",
              "      <td>2.0</td>\n",
              "      <td>0.0</td>\n",
              "      <td>18.0</td>\n",
              "      <td>NaN</td>\n",
              "      <td>0.0</td>\n",
              "      <td>1</td>\n",
              "      <td>33</td>\n",
              "      <td>36.0</td>\n",
              "    </tr>\n",
              "    <tr>\n",
              "      <th>4</th>\n",
              "      <td>5</td>\n",
              "      <td>2008</td>\n",
              "      <td>KKR v DC</td>\n",
              "      <td>KKR</td>\n",
              "      <td>DC</td>\n",
              "      <td>Eden Gardens, Kolkata</td>\n",
              "      <td>2.0</td>\n",
              "      <td>1.0</td>\n",
              "      <td>AB de Villiers</td>\n",
              "      <td>4.0</td>\n",
              "      <td>...</td>\n",
              "      <td>NaN</td>\n",
              "      <td>NaN</td>\n",
              "      <td>0.0</td>\n",
              "      <td>1.0</td>\n",
              "      <td>36.0</td>\n",
              "      <td>NaN</td>\n",
              "      <td>1.0</td>\n",
              "      <td>0</td>\n",
              "      <td>82</td>\n",
              "      <td>13.0</td>\n",
              "    </tr>\n",
              "  </tbody>\n",
              "</table>\n",
              "<p>5 rows × 27 columns</p>\n",
              "</div>\n",
              "    <div class=\"colab-df-buttons\">\n",
              "\n",
              "  <div class=\"colab-df-container\">\n",
              "    <button class=\"colab-df-convert\" onclick=\"convertToInteractive('df-9b7fc943-c4c7-4c69-968d-931bdcb50fd6')\"\n",
              "            title=\"Convert this dataframe to an interactive table.\"\n",
              "            style=\"display:none;\">\n",
              "\n",
              "  <svg xmlns=\"http://www.w3.org/2000/svg\" height=\"24px\" viewBox=\"0 -960 960 960\">\n",
              "    <path d=\"M120-120v-720h720v720H120Zm60-500h600v-160H180v160Zm220 220h160v-160H400v160Zm0 220h160v-160H400v160ZM180-400h160v-160H180v160Zm440 0h160v-160H620v160ZM180-180h160v-160H180v160Zm440 0h160v-160H620v160Z\"/>\n",
              "  </svg>\n",
              "    </button>\n",
              "\n",
              "  <style>\n",
              "    .colab-df-container {\n",
              "      display:flex;\n",
              "      gap: 12px;\n",
              "    }\n",
              "\n",
              "    .colab-df-convert {\n",
              "      background-color: #E8F0FE;\n",
              "      border: none;\n",
              "      border-radius: 50%;\n",
              "      cursor: pointer;\n",
              "      display: none;\n",
              "      fill: #1967D2;\n",
              "      height: 32px;\n",
              "      padding: 0 0 0 0;\n",
              "      width: 32px;\n",
              "    }\n",
              "\n",
              "    .colab-df-convert:hover {\n",
              "      background-color: #E2EBFA;\n",
              "      box-shadow: 0px 1px 2px rgba(60, 64, 67, 0.3), 0px 1px 3px 1px rgba(60, 64, 67, 0.15);\n",
              "      fill: #174EA6;\n",
              "    }\n",
              "\n",
              "    .colab-df-buttons div {\n",
              "      margin-bottom: 4px;\n",
              "    }\n",
              "\n",
              "    [theme=dark] .colab-df-convert {\n",
              "      background-color: #3B4455;\n",
              "      fill: #D2E3FC;\n",
              "    }\n",
              "\n",
              "    [theme=dark] .colab-df-convert:hover {\n",
              "      background-color: #434B5C;\n",
              "      box-shadow: 0px 1px 3px 1px rgba(0, 0, 0, 0.15);\n",
              "      filter: drop-shadow(0px 1px 2px rgba(0, 0, 0, 0.3));\n",
              "      fill: #FFFFFF;\n",
              "    }\n",
              "  </style>\n",
              "\n",
              "    <script>\n",
              "      const buttonEl =\n",
              "        document.querySelector('#df-9b7fc943-c4c7-4c69-968d-931bdcb50fd6 button.colab-df-convert');\n",
              "      buttonEl.style.display =\n",
              "        google.colab.kernel.accessAllowed ? 'block' : 'none';\n",
              "\n",
              "      async function convertToInteractive(key) {\n",
              "        const element = document.querySelector('#df-9b7fc943-c4c7-4c69-968d-931bdcb50fd6');\n",
              "        const dataTable =\n",
              "          await google.colab.kernel.invokeFunction('convertToInteractive',\n",
              "                                                    [key], {});\n",
              "        if (!dataTable) return;\n",
              "\n",
              "        const docLinkHtml = 'Like what you see? Visit the ' +\n",
              "          '<a target=\"_blank\" href=https://colab.research.google.com/notebooks/data_table.ipynb>data table notebook</a>'\n",
              "          + ' to learn more about interactive tables.';\n",
              "        element.innerHTML = '';\n",
              "        dataTable['output_type'] = 'display_data';\n",
              "        await google.colab.output.renderOutput(dataTable, element);\n",
              "        const docLink = document.createElement('div');\n",
              "        docLink.innerHTML = docLinkHtml;\n",
              "        element.appendChild(docLink);\n",
              "      }\n",
              "    </script>\n",
              "  </div>\n",
              "\n",
              "\n",
              "<div id=\"df-1882d872-701e-4cd6-91de-b8887a5914ed\">\n",
              "  <button class=\"colab-df-quickchart\" onclick=\"quickchart('df-1882d872-701e-4cd6-91de-b8887a5914ed')\"\n",
              "            title=\"Suggest charts\"\n",
              "            style=\"display:none;\">\n",
              "\n",
              "<svg xmlns=\"http://www.w3.org/2000/svg\" height=\"24px\"viewBox=\"0 0 24 24\"\n",
              "     width=\"24px\">\n",
              "    <g>\n",
              "        <path d=\"M19 3H5c-1.1 0-2 .9-2 2v14c0 1.1.9 2 2 2h14c1.1 0 2-.9 2-2V5c0-1.1-.9-2-2-2zM9 17H7v-7h2v7zm4 0h-2V7h2v10zm4 0h-2v-4h2v4z\"/>\n",
              "    </g>\n",
              "</svg>\n",
              "  </button>\n",
              "\n",
              "<style>\n",
              "  .colab-df-quickchart {\n",
              "      --bg-color: #E8F0FE;\n",
              "      --fill-color: #1967D2;\n",
              "      --hover-bg-color: #E2EBFA;\n",
              "      --hover-fill-color: #174EA6;\n",
              "      --disabled-fill-color: #AAA;\n",
              "      --disabled-bg-color: #DDD;\n",
              "  }\n",
              "\n",
              "  [theme=dark] .colab-df-quickchart {\n",
              "      --bg-color: #3B4455;\n",
              "      --fill-color: #D2E3FC;\n",
              "      --hover-bg-color: #434B5C;\n",
              "      --hover-fill-color: #FFFFFF;\n",
              "      --disabled-bg-color: #3B4455;\n",
              "      --disabled-fill-color: #666;\n",
              "  }\n",
              "\n",
              "  .colab-df-quickchart {\n",
              "    background-color: var(--bg-color);\n",
              "    border: none;\n",
              "    border-radius: 50%;\n",
              "    cursor: pointer;\n",
              "    display: none;\n",
              "    fill: var(--fill-color);\n",
              "    height: 32px;\n",
              "    padding: 0;\n",
              "    width: 32px;\n",
              "  }\n",
              "\n",
              "  .colab-df-quickchart:hover {\n",
              "    background-color: var(--hover-bg-color);\n",
              "    box-shadow: 0 1px 2px rgba(60, 64, 67, 0.3), 0 1px 3px 1px rgba(60, 64, 67, 0.15);\n",
              "    fill: var(--button-hover-fill-color);\n",
              "  }\n",
              "\n",
              "  .colab-df-quickchart-complete:disabled,\n",
              "  .colab-df-quickchart-complete:disabled:hover {\n",
              "    background-color: var(--disabled-bg-color);\n",
              "    fill: var(--disabled-fill-color);\n",
              "    box-shadow: none;\n",
              "  }\n",
              "\n",
              "  .colab-df-spinner {\n",
              "    border: 2px solid var(--fill-color);\n",
              "    border-color: transparent;\n",
              "    border-bottom-color: var(--fill-color);\n",
              "    animation:\n",
              "      spin 1s steps(1) infinite;\n",
              "  }\n",
              "\n",
              "  @keyframes spin {\n",
              "    0% {\n",
              "      border-color: transparent;\n",
              "      border-bottom-color: var(--fill-color);\n",
              "      border-left-color: var(--fill-color);\n",
              "    }\n",
              "    20% {\n",
              "      border-color: transparent;\n",
              "      border-left-color: var(--fill-color);\n",
              "      border-top-color: var(--fill-color);\n",
              "    }\n",
              "    30% {\n",
              "      border-color: transparent;\n",
              "      border-left-color: var(--fill-color);\n",
              "      border-top-color: var(--fill-color);\n",
              "      border-right-color: var(--fill-color);\n",
              "    }\n",
              "    40% {\n",
              "      border-color: transparent;\n",
              "      border-right-color: var(--fill-color);\n",
              "      border-top-color: var(--fill-color);\n",
              "    }\n",
              "    60% {\n",
              "      border-color: transparent;\n",
              "      border-right-color: var(--fill-color);\n",
              "    }\n",
              "    80% {\n",
              "      border-color: transparent;\n",
              "      border-right-color: var(--fill-color);\n",
              "      border-bottom-color: var(--fill-color);\n",
              "    }\n",
              "    90% {\n",
              "      border-color: transparent;\n",
              "      border-bottom-color: var(--fill-color);\n",
              "    }\n",
              "  }\n",
              "</style>\n",
              "\n",
              "  <script>\n",
              "    async function quickchart(key) {\n",
              "      const quickchartButtonEl =\n",
              "        document.querySelector('#' + key + ' button');\n",
              "      quickchartButtonEl.disabled = true;  // To prevent multiple clicks.\n",
              "      quickchartButtonEl.classList.add('colab-df-spinner');\n",
              "      try {\n",
              "        const charts = await google.colab.kernel.invokeFunction(\n",
              "            'suggestCharts', [key], {});\n",
              "      } catch (error) {\n",
              "        console.error('Error during call to suggestCharts:', error);\n",
              "      }\n",
              "      quickchartButtonEl.classList.remove('colab-df-spinner');\n",
              "      quickchartButtonEl.classList.add('colab-df-quickchart-complete');\n",
              "    }\n",
              "    (() => {\n",
              "      let quickchartButtonEl =\n",
              "        document.querySelector('#df-1882d872-701e-4cd6-91de-b8887a5914ed button');\n",
              "      quickchartButtonEl.style.display =\n",
              "        google.colab.kernel.accessAllowed ? 'block' : 'none';\n",
              "    })();\n",
              "  </script>\n",
              "</div>\n",
              "\n",
              "    </div>\n",
              "  </div>\n"
            ],
            "application/vnd.google.colaboratory.intrinsic+json": {
              "type": "dataframe",
              "variable_name": "dft"
            }
          },
          "metadata": {},
          "execution_count": 687
        }
      ]
    },
    {
      "cell_type": "code",
      "source": [
        "#train set column names\n",
        "dft.columns"
      ],
      "metadata": {
        "colab": {
          "base_uri": "https://localhost:8080/"
        },
        "id": "Bjas7ilolcLU",
        "outputId": "125344fc-a5ad-41f2-a3cb-1b50f039910a"
      },
      "execution_count": null,
      "outputs": [
        {
          "output_type": "execute_result",
          "data": {
            "text/plain": [
              "Index(['match_id', 'season', 'match_name', 'home_team', 'away_team', 'venue',\n",
              "       'batting_innings', 'bowling_innings', 'Player_name', 'Starting_11',\n",
              "       'bowling_team_bowl', 'batting_team_bat', 'prev_runs', 'prev_balls',\n",
              "       'prev_sixes', 'prev_fours', 'prev_wickets', 'prev_conceded',\n",
              "       'prev_Overs_Bowled', 'prev_catches', 'prev_Dream Team', 'prev_Total_FP',\n",
              "       'prev_overs', 'prev_fielding_heroics', 'prev_duck', 'luck', 'Total_FP'],\n",
              "      dtype='object')"
            ]
          },
          "metadata": {},
          "execution_count": 688
        }
      ]
    },
    {
      "cell_type": "code",
      "source": [
        "#train set descriptive statistics\n",
        "dft.describe()"
      ],
      "metadata": {
        "colab": {
          "base_uri": "https://localhost:8080/",
          "height": 337
        },
        "id": "YavVMNgPlfc8",
        "outputId": "b7ae6c7d-abeb-43cb-c049-08e48734647b"
      },
      "execution_count": null,
      "outputs": [
        {
          "output_type": "execute_result",
          "data": {
            "text/plain": [
              "           match_id        season  batting_innings  bowling_innings  \\\n",
              "count  21616.000000  21616.000000     21616.000000     21616.000000   \n",
              "mean   11196.635918   2015.633975         1.497641         1.502359   \n",
              "std     6452.702186      4.663043         0.500006         0.500006   \n",
              "min        1.000000   2008.000000         1.000000         1.000000   \n",
              "25%     5611.750000   2012.000000         1.000000         1.000000   \n",
              "50%    11195.500000   2015.000000         1.000000         2.000000   \n",
              "75%    16783.250000   2020.000000         2.000000         2.000000   \n",
              "max    22362.000000   2023.000000         2.000000         2.000000   \n",
              "\n",
              "       Starting_11     prev_runs    prev_balls    prev_sixes    prev_fours  \\\n",
              "count      21616.0  14699.000000  14699.000000  14699.000000  14699.000000   \n",
              "mean           4.0     19.622559     15.126267      0.759848      1.776720   \n",
              "std            0.0     21.306417     13.636834      1.343462      2.307336   \n",
              "min            4.0      0.000000      0.000000      0.000000      0.000000   \n",
              "25%            4.0      3.000000      5.000000      0.000000      0.000000   \n",
              "50%            4.0     12.000000     11.000000      0.000000      1.000000   \n",
              "75%            4.0     29.000000     22.000000      1.000000      3.000000   \n",
              "max            4.0    175.000000     73.000000     17.000000     19.000000   \n",
              "\n",
              "       prev_wickets  prev_conceded  prev_catches  prev_Dream Team  \\\n",
              "count  11335.000000   11335.000000   6682.000000     20939.000000   \n",
              "mean       0.916542      25.932510      1.022897         0.510292   \n",
              "std        0.998369      10.675894      0.628788         0.499906   \n",
              "min        0.000000       0.000000      0.000000         0.000000   \n",
              "25%        0.000000      18.500000      1.000000         0.000000   \n",
              "50%        1.000000      26.000000      1.000000         1.000000   \n",
              "75%        1.000000      33.000000      1.000000         1.000000   \n",
              "max        6.000000      70.000000      5.000000         1.000000   \n",
              "\n",
              "       prev_Total_FP    prev_overs  prev_fielding_heroics     prev_duck  \\\n",
              "count   20939.000000  11335.000000            6682.000000  21616.000000   \n",
              "mean       39.281389      3.236568               0.275367      0.071521   \n",
              "std        33.193384      1.017250               0.519249      0.257699   \n",
              "min        -4.000000      0.000000               0.000000      0.000000   \n",
              "25%        12.000000      3.000000               0.000000      0.000000   \n",
              "50%        31.000000      4.000000               0.000000      0.000000   \n",
              "75%        57.000000      4.000000               0.000000      0.000000   \n",
              "max       306.000000      4.000000               4.000000      1.000000   \n",
              "\n",
              "               luck      Total_FP  \n",
              "count  21616.000000  21616.000000  \n",
              "mean      49.633142     37.617274  \n",
              "std       28.865971     31.775817  \n",
              "min        0.000000     -4.000000  \n",
              "25%       25.000000     12.000000  \n",
              "50%       50.000000     30.000000  \n",
              "75%       75.000000     55.000000  \n",
              "max       99.000000    306.000000  "
            ],
            "text/html": [
              "\n",
              "  <div id=\"df-76ddd164-8671-49b1-9893-30528ed401ff\" class=\"colab-df-container\">\n",
              "    <div>\n",
              "<style scoped>\n",
              "    .dataframe tbody tr th:only-of-type {\n",
              "        vertical-align: middle;\n",
              "    }\n",
              "\n",
              "    .dataframe tbody tr th {\n",
              "        vertical-align: top;\n",
              "    }\n",
              "\n",
              "    .dataframe thead th {\n",
              "        text-align: right;\n",
              "    }\n",
              "</style>\n",
              "<table border=\"1\" class=\"dataframe\">\n",
              "  <thead>\n",
              "    <tr style=\"text-align: right;\">\n",
              "      <th></th>\n",
              "      <th>match_id</th>\n",
              "      <th>season</th>\n",
              "      <th>batting_innings</th>\n",
              "      <th>bowling_innings</th>\n",
              "      <th>Starting_11</th>\n",
              "      <th>prev_runs</th>\n",
              "      <th>prev_balls</th>\n",
              "      <th>prev_sixes</th>\n",
              "      <th>prev_fours</th>\n",
              "      <th>prev_wickets</th>\n",
              "      <th>prev_conceded</th>\n",
              "      <th>prev_catches</th>\n",
              "      <th>prev_Dream Team</th>\n",
              "      <th>prev_Total_FP</th>\n",
              "      <th>prev_overs</th>\n",
              "      <th>prev_fielding_heroics</th>\n",
              "      <th>prev_duck</th>\n",
              "      <th>luck</th>\n",
              "      <th>Total_FP</th>\n",
              "    </tr>\n",
              "  </thead>\n",
              "  <tbody>\n",
              "    <tr>\n",
              "      <th>count</th>\n",
              "      <td>21616.000000</td>\n",
              "      <td>21616.000000</td>\n",
              "      <td>21616.000000</td>\n",
              "      <td>21616.000000</td>\n",
              "      <td>21616.0</td>\n",
              "      <td>14699.000000</td>\n",
              "      <td>14699.000000</td>\n",
              "      <td>14699.000000</td>\n",
              "      <td>14699.000000</td>\n",
              "      <td>11335.000000</td>\n",
              "      <td>11335.000000</td>\n",
              "      <td>6682.000000</td>\n",
              "      <td>20939.000000</td>\n",
              "      <td>20939.000000</td>\n",
              "      <td>11335.000000</td>\n",
              "      <td>6682.000000</td>\n",
              "      <td>21616.000000</td>\n",
              "      <td>21616.000000</td>\n",
              "      <td>21616.000000</td>\n",
              "    </tr>\n",
              "    <tr>\n",
              "      <th>mean</th>\n",
              "      <td>11196.635918</td>\n",
              "      <td>2015.633975</td>\n",
              "      <td>1.497641</td>\n",
              "      <td>1.502359</td>\n",
              "      <td>4.0</td>\n",
              "      <td>19.622559</td>\n",
              "      <td>15.126267</td>\n",
              "      <td>0.759848</td>\n",
              "      <td>1.776720</td>\n",
              "      <td>0.916542</td>\n",
              "      <td>25.932510</td>\n",
              "      <td>1.022897</td>\n",
              "      <td>0.510292</td>\n",
              "      <td>39.281389</td>\n",
              "      <td>3.236568</td>\n",
              "      <td>0.275367</td>\n",
              "      <td>0.071521</td>\n",
              "      <td>49.633142</td>\n",
              "      <td>37.617274</td>\n",
              "    </tr>\n",
              "    <tr>\n",
              "      <th>std</th>\n",
              "      <td>6452.702186</td>\n",
              "      <td>4.663043</td>\n",
              "      <td>0.500006</td>\n",
              "      <td>0.500006</td>\n",
              "      <td>0.0</td>\n",
              "      <td>21.306417</td>\n",
              "      <td>13.636834</td>\n",
              "      <td>1.343462</td>\n",
              "      <td>2.307336</td>\n",
              "      <td>0.998369</td>\n",
              "      <td>10.675894</td>\n",
              "      <td>0.628788</td>\n",
              "      <td>0.499906</td>\n",
              "      <td>33.193384</td>\n",
              "      <td>1.017250</td>\n",
              "      <td>0.519249</td>\n",
              "      <td>0.257699</td>\n",
              "      <td>28.865971</td>\n",
              "      <td>31.775817</td>\n",
              "    </tr>\n",
              "    <tr>\n",
              "      <th>min</th>\n",
              "      <td>1.000000</td>\n",
              "      <td>2008.000000</td>\n",
              "      <td>1.000000</td>\n",
              "      <td>1.000000</td>\n",
              "      <td>4.0</td>\n",
              "      <td>0.000000</td>\n",
              "      <td>0.000000</td>\n",
              "      <td>0.000000</td>\n",
              "      <td>0.000000</td>\n",
              "      <td>0.000000</td>\n",
              "      <td>0.000000</td>\n",
              "      <td>0.000000</td>\n",
              "      <td>0.000000</td>\n",
              "      <td>-4.000000</td>\n",
              "      <td>0.000000</td>\n",
              "      <td>0.000000</td>\n",
              "      <td>0.000000</td>\n",
              "      <td>0.000000</td>\n",
              "      <td>-4.000000</td>\n",
              "    </tr>\n",
              "    <tr>\n",
              "      <th>25%</th>\n",
              "      <td>5611.750000</td>\n",
              "      <td>2012.000000</td>\n",
              "      <td>1.000000</td>\n",
              "      <td>1.000000</td>\n",
              "      <td>4.0</td>\n",
              "      <td>3.000000</td>\n",
              "      <td>5.000000</td>\n",
              "      <td>0.000000</td>\n",
              "      <td>0.000000</td>\n",
              "      <td>0.000000</td>\n",
              "      <td>18.500000</td>\n",
              "      <td>1.000000</td>\n",
              "      <td>0.000000</td>\n",
              "      <td>12.000000</td>\n",
              "      <td>3.000000</td>\n",
              "      <td>0.000000</td>\n",
              "      <td>0.000000</td>\n",
              "      <td>25.000000</td>\n",
              "      <td>12.000000</td>\n",
              "    </tr>\n",
              "    <tr>\n",
              "      <th>50%</th>\n",
              "      <td>11195.500000</td>\n",
              "      <td>2015.000000</td>\n",
              "      <td>1.000000</td>\n",
              "      <td>2.000000</td>\n",
              "      <td>4.0</td>\n",
              "      <td>12.000000</td>\n",
              "      <td>11.000000</td>\n",
              "      <td>0.000000</td>\n",
              "      <td>1.000000</td>\n",
              "      <td>1.000000</td>\n",
              "      <td>26.000000</td>\n",
              "      <td>1.000000</td>\n",
              "      <td>1.000000</td>\n",
              "      <td>31.000000</td>\n",
              "      <td>4.000000</td>\n",
              "      <td>0.000000</td>\n",
              "      <td>0.000000</td>\n",
              "      <td>50.000000</td>\n",
              "      <td>30.000000</td>\n",
              "    </tr>\n",
              "    <tr>\n",
              "      <th>75%</th>\n",
              "      <td>16783.250000</td>\n",
              "      <td>2020.000000</td>\n",
              "      <td>2.000000</td>\n",
              "      <td>2.000000</td>\n",
              "      <td>4.0</td>\n",
              "      <td>29.000000</td>\n",
              "      <td>22.000000</td>\n",
              "      <td>1.000000</td>\n",
              "      <td>3.000000</td>\n",
              "      <td>1.000000</td>\n",
              "      <td>33.000000</td>\n",
              "      <td>1.000000</td>\n",
              "      <td>1.000000</td>\n",
              "      <td>57.000000</td>\n",
              "      <td>4.000000</td>\n",
              "      <td>0.000000</td>\n",
              "      <td>0.000000</td>\n",
              "      <td>75.000000</td>\n",
              "      <td>55.000000</td>\n",
              "    </tr>\n",
              "    <tr>\n",
              "      <th>max</th>\n",
              "      <td>22362.000000</td>\n",
              "      <td>2023.000000</td>\n",
              "      <td>2.000000</td>\n",
              "      <td>2.000000</td>\n",
              "      <td>4.0</td>\n",
              "      <td>175.000000</td>\n",
              "      <td>73.000000</td>\n",
              "      <td>17.000000</td>\n",
              "      <td>19.000000</td>\n",
              "      <td>6.000000</td>\n",
              "      <td>70.000000</td>\n",
              "      <td>5.000000</td>\n",
              "      <td>1.000000</td>\n",
              "      <td>306.000000</td>\n",
              "      <td>4.000000</td>\n",
              "      <td>4.000000</td>\n",
              "      <td>1.000000</td>\n",
              "      <td>99.000000</td>\n",
              "      <td>306.000000</td>\n",
              "    </tr>\n",
              "  </tbody>\n",
              "</table>\n",
              "</div>\n",
              "    <div class=\"colab-df-buttons\">\n",
              "\n",
              "  <div class=\"colab-df-container\">\n",
              "    <button class=\"colab-df-convert\" onclick=\"convertToInteractive('df-76ddd164-8671-49b1-9893-30528ed401ff')\"\n",
              "            title=\"Convert this dataframe to an interactive table.\"\n",
              "            style=\"display:none;\">\n",
              "\n",
              "  <svg xmlns=\"http://www.w3.org/2000/svg\" height=\"24px\" viewBox=\"0 -960 960 960\">\n",
              "    <path d=\"M120-120v-720h720v720H120Zm60-500h600v-160H180v160Zm220 220h160v-160H400v160Zm0 220h160v-160H400v160ZM180-400h160v-160H180v160Zm440 0h160v-160H620v160ZM180-180h160v-160H180v160Zm440 0h160v-160H620v160Z\"/>\n",
              "  </svg>\n",
              "    </button>\n",
              "\n",
              "  <style>\n",
              "    .colab-df-container {\n",
              "      display:flex;\n",
              "      gap: 12px;\n",
              "    }\n",
              "\n",
              "    .colab-df-convert {\n",
              "      background-color: #E8F0FE;\n",
              "      border: none;\n",
              "      border-radius: 50%;\n",
              "      cursor: pointer;\n",
              "      display: none;\n",
              "      fill: #1967D2;\n",
              "      height: 32px;\n",
              "      padding: 0 0 0 0;\n",
              "      width: 32px;\n",
              "    }\n",
              "\n",
              "    .colab-df-convert:hover {\n",
              "      background-color: #E2EBFA;\n",
              "      box-shadow: 0px 1px 2px rgba(60, 64, 67, 0.3), 0px 1px 3px 1px rgba(60, 64, 67, 0.15);\n",
              "      fill: #174EA6;\n",
              "    }\n",
              "\n",
              "    .colab-df-buttons div {\n",
              "      margin-bottom: 4px;\n",
              "    }\n",
              "\n",
              "    [theme=dark] .colab-df-convert {\n",
              "      background-color: #3B4455;\n",
              "      fill: #D2E3FC;\n",
              "    }\n",
              "\n",
              "    [theme=dark] .colab-df-convert:hover {\n",
              "      background-color: #434B5C;\n",
              "      box-shadow: 0px 1px 3px 1px rgba(0, 0, 0, 0.15);\n",
              "      filter: drop-shadow(0px 1px 2px rgba(0, 0, 0, 0.3));\n",
              "      fill: #FFFFFF;\n",
              "    }\n",
              "  </style>\n",
              "\n",
              "    <script>\n",
              "      const buttonEl =\n",
              "        document.querySelector('#df-76ddd164-8671-49b1-9893-30528ed401ff button.colab-df-convert');\n",
              "      buttonEl.style.display =\n",
              "        google.colab.kernel.accessAllowed ? 'block' : 'none';\n",
              "\n",
              "      async function convertToInteractive(key) {\n",
              "        const element = document.querySelector('#df-76ddd164-8671-49b1-9893-30528ed401ff');\n",
              "        const dataTable =\n",
              "          await google.colab.kernel.invokeFunction('convertToInteractive',\n",
              "                                                    [key], {});\n",
              "        if (!dataTable) return;\n",
              "\n",
              "        const docLinkHtml = 'Like what you see? Visit the ' +\n",
              "          '<a target=\"_blank\" href=https://colab.research.google.com/notebooks/data_table.ipynb>data table notebook</a>'\n",
              "          + ' to learn more about interactive tables.';\n",
              "        element.innerHTML = '';\n",
              "        dataTable['output_type'] = 'display_data';\n",
              "        await google.colab.output.renderOutput(dataTable, element);\n",
              "        const docLink = document.createElement('div');\n",
              "        docLink.innerHTML = docLinkHtml;\n",
              "        element.appendChild(docLink);\n",
              "      }\n",
              "    </script>\n",
              "  </div>\n",
              "\n",
              "\n",
              "<div id=\"df-45fd6e71-fca7-4bb3-af43-2941c691585a\">\n",
              "  <button class=\"colab-df-quickchart\" onclick=\"quickchart('df-45fd6e71-fca7-4bb3-af43-2941c691585a')\"\n",
              "            title=\"Suggest charts\"\n",
              "            style=\"display:none;\">\n",
              "\n",
              "<svg xmlns=\"http://www.w3.org/2000/svg\" height=\"24px\"viewBox=\"0 0 24 24\"\n",
              "     width=\"24px\">\n",
              "    <g>\n",
              "        <path d=\"M19 3H5c-1.1 0-2 .9-2 2v14c0 1.1.9 2 2 2h14c1.1 0 2-.9 2-2V5c0-1.1-.9-2-2-2zM9 17H7v-7h2v7zm4 0h-2V7h2v10zm4 0h-2v-4h2v4z\"/>\n",
              "    </g>\n",
              "</svg>\n",
              "  </button>\n",
              "\n",
              "<style>\n",
              "  .colab-df-quickchart {\n",
              "      --bg-color: #E8F0FE;\n",
              "      --fill-color: #1967D2;\n",
              "      --hover-bg-color: #E2EBFA;\n",
              "      --hover-fill-color: #174EA6;\n",
              "      --disabled-fill-color: #AAA;\n",
              "      --disabled-bg-color: #DDD;\n",
              "  }\n",
              "\n",
              "  [theme=dark] .colab-df-quickchart {\n",
              "      --bg-color: #3B4455;\n",
              "      --fill-color: #D2E3FC;\n",
              "      --hover-bg-color: #434B5C;\n",
              "      --hover-fill-color: #FFFFFF;\n",
              "      --disabled-bg-color: #3B4455;\n",
              "      --disabled-fill-color: #666;\n",
              "  }\n",
              "\n",
              "  .colab-df-quickchart {\n",
              "    background-color: var(--bg-color);\n",
              "    border: none;\n",
              "    border-radius: 50%;\n",
              "    cursor: pointer;\n",
              "    display: none;\n",
              "    fill: var(--fill-color);\n",
              "    height: 32px;\n",
              "    padding: 0;\n",
              "    width: 32px;\n",
              "  }\n",
              "\n",
              "  .colab-df-quickchart:hover {\n",
              "    background-color: var(--hover-bg-color);\n",
              "    box-shadow: 0 1px 2px rgba(60, 64, 67, 0.3), 0 1px 3px 1px rgba(60, 64, 67, 0.15);\n",
              "    fill: var(--button-hover-fill-color);\n",
              "  }\n",
              "\n",
              "  .colab-df-quickchart-complete:disabled,\n",
              "  .colab-df-quickchart-complete:disabled:hover {\n",
              "    background-color: var(--disabled-bg-color);\n",
              "    fill: var(--disabled-fill-color);\n",
              "    box-shadow: none;\n",
              "  }\n",
              "\n",
              "  .colab-df-spinner {\n",
              "    border: 2px solid var(--fill-color);\n",
              "    border-color: transparent;\n",
              "    border-bottom-color: var(--fill-color);\n",
              "    animation:\n",
              "      spin 1s steps(1) infinite;\n",
              "  }\n",
              "\n",
              "  @keyframes spin {\n",
              "    0% {\n",
              "      border-color: transparent;\n",
              "      border-bottom-color: var(--fill-color);\n",
              "      border-left-color: var(--fill-color);\n",
              "    }\n",
              "    20% {\n",
              "      border-color: transparent;\n",
              "      border-left-color: var(--fill-color);\n",
              "      border-top-color: var(--fill-color);\n",
              "    }\n",
              "    30% {\n",
              "      border-color: transparent;\n",
              "      border-left-color: var(--fill-color);\n",
              "      border-top-color: var(--fill-color);\n",
              "      border-right-color: var(--fill-color);\n",
              "    }\n",
              "    40% {\n",
              "      border-color: transparent;\n",
              "      border-right-color: var(--fill-color);\n",
              "      border-top-color: var(--fill-color);\n",
              "    }\n",
              "    60% {\n",
              "      border-color: transparent;\n",
              "      border-right-color: var(--fill-color);\n",
              "    }\n",
              "    80% {\n",
              "      border-color: transparent;\n",
              "      border-right-color: var(--fill-color);\n",
              "      border-bottom-color: var(--fill-color);\n",
              "    }\n",
              "    90% {\n",
              "      border-color: transparent;\n",
              "      border-bottom-color: var(--fill-color);\n",
              "    }\n",
              "  }\n",
              "</style>\n",
              "\n",
              "  <script>\n",
              "    async function quickchart(key) {\n",
              "      const quickchartButtonEl =\n",
              "        document.querySelector('#' + key + ' button');\n",
              "      quickchartButtonEl.disabled = true;  // To prevent multiple clicks.\n",
              "      quickchartButtonEl.classList.add('colab-df-spinner');\n",
              "      try {\n",
              "        const charts = await google.colab.kernel.invokeFunction(\n",
              "            'suggestCharts', [key], {});\n",
              "      } catch (error) {\n",
              "        console.error('Error during call to suggestCharts:', error);\n",
              "      }\n",
              "      quickchartButtonEl.classList.remove('colab-df-spinner');\n",
              "      quickchartButtonEl.classList.add('colab-df-quickchart-complete');\n",
              "    }\n",
              "    (() => {\n",
              "      let quickchartButtonEl =\n",
              "        document.querySelector('#df-45fd6e71-fca7-4bb3-af43-2941c691585a button');\n",
              "      quickchartButtonEl.style.display =\n",
              "        google.colab.kernel.accessAllowed ? 'block' : 'none';\n",
              "    })();\n",
              "  </script>\n",
              "</div>\n",
              "\n",
              "    </div>\n",
              "  </div>\n"
            ],
            "application/vnd.google.colaboratory.intrinsic+json": {
              "type": "dataframe",
              "summary": "{\n  \"name\": \"dft\",\n  \"rows\": 8,\n  \"fields\": [\n    {\n      \"column\": \"match_id\",\n      \"properties\": {\n        \"dtype\": \"number\",\n        \"std\": 7923.676726175879,\n        \"min\": 1.0,\n        \"max\": 22362.0,\n        \"num_unique_values\": 8,\n        \"samples\": [\n          11196.635917838637,\n          11195.5,\n          21616.0\n        ],\n        \"semantic_type\": \"\",\n        \"description\": \"\"\n      }\n    },\n    {\n      \"column\": \"season\",\n      \"properties\": {\n        \"dtype\": \"number\",\n        \"std\": 7066.479140830914,\n        \"min\": 4.6630434807106775,\n        \"max\": 21616.0,\n        \"num_unique_values\": 8,\n        \"samples\": [\n          2015.6339748334567,\n          2015.0,\n          21616.0\n        ],\n        \"semantic_type\": \"\",\n        \"description\": \"\"\n      }\n    },\n    {\n      \"column\": \"batting_innings\",\n      \"properties\": {\n        \"dtype\": \"number\",\n        \"std\": 7641.955659298666,\n        \"min\": 0.5000059991527606,\n        \"max\": 21616.0,\n        \"num_unique_values\": 5,\n        \"samples\": [\n          1.497640636565507,\n          2.0,\n          0.5000059991527606\n        ],\n        \"semantic_type\": \"\",\n        \"description\": \"\"\n      }\n    },\n    {\n      \"column\": \"bowling_innings\",\n      \"properties\": {\n        \"dtype\": \"number\",\n        \"std\": 7641.904916023006,\n        \"min\": 0.5000059991527606,\n        \"max\": 21616.0,\n        \"num_unique_values\": 5,\n        \"samples\": [\n          1.502359363434493,\n          2.0,\n          0.5000059991527606\n        ],\n        \"semantic_type\": \"\",\n        \"description\": \"\"\n      }\n    },\n    {\n      \"column\": \"Starting_11\",\n      \"properties\": {\n        \"dtype\": \"number\",\n        \"std\": 7641.198036209467,\n        \"min\": 0.0,\n        \"max\": 21616.0,\n        \"num_unique_values\": 3,\n        \"samples\": [\n          21616.0,\n          4.0,\n          0.0\n        ],\n        \"semantic_type\": \"\",\n        \"description\": \"\"\n      }\n    },\n    {\n      \"column\": \"prev_runs\",\n      \"properties\": {\n        \"dtype\": \"number\",\n        \"std\": 5184.0671360056585,\n        \"min\": 0.0,\n        \"max\": 14699.0,\n        \"num_unique_values\": 8,\n        \"samples\": [\n          19.62255935777944,\n          12.0,\n          14699.0\n        ],\n        \"semantic_type\": \"\",\n        \"description\": \"\"\n      }\n    },\n    {\n      \"column\": \"prev_balls\",\n      \"properties\": {\n        \"dtype\": \"number\",\n        \"std\": 5189.87150228487,\n        \"min\": 0.0,\n        \"max\": 14699.0,\n        \"num_unique_values\": 8,\n        \"samples\": [\n          15.126267092999523,\n          11.0,\n          14699.0\n        ],\n        \"semantic_type\": \"\",\n        \"description\": \"\"\n      }\n    },\n    {\n      \"column\": \"prev_sixes\",\n      \"properties\": {\n        \"dtype\": \"number\",\n        \"std\": 5195.869143623754,\n        \"min\": 0.0,\n        \"max\": 14699.0,\n        \"num_unique_values\": 6,\n        \"samples\": [\n          14699.0,\n          0.7598476086808627,\n          17.0\n        ],\n        \"semantic_type\": \"\",\n        \"description\": \"\"\n      }\n    },\n    {\n      \"column\": \"prev_fours\",\n      \"properties\": {\n        \"dtype\": \"number\",\n        \"std\": 5195.517113406138,\n        \"min\": 0.0,\n        \"max\": 14699.0,\n        \"num_unique_values\": 7,\n        \"samples\": [\n          14699.0,\n          1.7767195047282127,\n          3.0\n        ],\n        \"semantic_type\": \"\",\n        \"description\": \"\"\n      }\n    },\n    {\n      \"column\": \"prev_wickets\",\n      \"properties\": {\n        \"dtype\": \"number\",\n        \"std\": 4007.0273635689496,\n        \"min\": 0.0,\n        \"max\": 11335.0,\n        \"num_unique_values\": 6,\n        \"samples\": [\n          11335.0,\n          0.9165416850463167,\n          6.0\n        ],\n        \"semantic_type\": \"\",\n        \"description\": \"\"\n      }\n    },\n    {\n      \"column\": \"prev_conceded\",\n      \"properties\": {\n        \"dtype\": \"number\",\n        \"std\": 3998.2815311686622,\n        \"min\": 0.0,\n        \"max\": 11335.0,\n        \"num_unique_values\": 8,\n        \"samples\": [\n          25.93250992501103,\n          26.0,\n          11335.0\n        ],\n        \"semantic_type\": \"\",\n        \"description\": \"\"\n      }\n    },\n    {\n      \"column\": \"prev_catches\",\n      \"properties\": {\n        \"dtype\": \"number\",\n        \"std\": 2361.9567601226877,\n        \"min\": 0.0,\n        \"max\": 6682.0,\n        \"num_unique_values\": 6,\n        \"samples\": [\n          6682.0,\n          1.022897336126908,\n          5.0\n        ],\n        \"semantic_type\": \"\",\n        \"description\": \"\"\n      }\n    },\n    {\n      \"column\": \"prev_Dream Team\",\n      \"properties\": {\n        \"dtype\": \"number\",\n        \"std\": 7402.851911759929,\n        \"min\": 0.0,\n        \"max\": 20939.0,\n        \"num_unique_values\": 5,\n        \"samples\": [\n          0.5102917999904485,\n          1.0,\n          0.49990600497246457\n        ],\n        \"semantic_type\": \"\",\n        \"description\": \"\"\n      }\n    },\n    {\n      \"column\": \"prev_Total_FP\",\n      \"properties\": {\n        \"dtype\": \"number\",\n        \"std\": 7379.752793934511,\n        \"min\": -4.0,\n        \"max\": 20939.0,\n        \"num_unique_values\": 8,\n        \"samples\": [\n          39.281388796026555,\n          31.0,\n          20939.0\n        ],\n        \"semantic_type\": \"\",\n        \"description\": \"\"\n      }\n    },\n    {\n      \"column\": \"prev_overs\",\n      \"properties\": {\n        \"dtype\": \"number\",\n        \"std\": 4006.5554949655807,\n        \"min\": 0.0,\n        \"max\": 11335.0,\n        \"num_unique_values\": 6,\n        \"samples\": [\n          11335.0,\n          3.2365681517423908,\n          4.0\n        ],\n        \"semantic_type\": \"\",\n        \"description\": \"\"\n      }\n    },\n    {\n      \"column\": \"prev_fielding_heroics\",\n      \"properties\": {\n        \"dtype\": \"number\",\n        \"std\": 2362.201986255823,\n        \"min\": 0.0,\n        \"max\": 6682.0,\n        \"num_unique_values\": 5,\n        \"samples\": [\n          0.2753666566896139,\n          4.0,\n          0.5192486125567752\n        ],\n        \"semantic_type\": \"\",\n        \"description\": \"\"\n      }\n    },\n    {\n      \"column\": \"prev_duck\",\n      \"properties\": {\n        \"dtype\": \"number\",\n        \"std\": 7642.342962954619,\n        \"min\": 0.0,\n        \"max\": 21616.0,\n        \"num_unique_values\": 5,\n        \"samples\": [\n          0.07152109548482606,\n          1.0,\n          0.25769924446125897\n        ],\n        \"semantic_type\": \"\",\n        \"description\": \"\"\n      }\n    },\n    {\n      \"column\": \"luck\",\n      \"properties\": {\n        \"dtype\": \"number\",\n        \"std\": 7625.930009125897,\n        \"min\": 0.0,\n        \"max\": 21616.0,\n        \"num_unique_values\": 8,\n        \"samples\": [\n          49.63314211695041,\n          50.0,\n          21616.0\n        ],\n        \"semantic_type\": \"\",\n        \"description\": \"\"\n      }\n    },\n    {\n      \"column\": \"Total_FP\",\n      \"properties\": {\n        \"dtype\": \"number\",\n        \"std\": 7619.397702903739,\n        \"min\": -4.0,\n        \"max\": 21616.0,\n        \"num_unique_values\": 8,\n        \"samples\": [\n          37.61727424130274,\n          30.0,\n          21616.0\n        ],\n        \"semantic_type\": \"\",\n        \"description\": \"\"\n      }\n    }\n  ]\n}"
            }
          },
          "metadata": {},
          "execution_count": 689
        }
      ]
    },
    {
      "cell_type": "code",
      "source": [
        "#sum of null (NaN) values in train set\n",
        "dft.isnull().sum()"
      ],
      "metadata": {
        "colab": {
          "base_uri": "https://localhost:8080/"
        },
        "id": "7KTFFervlifV",
        "outputId": "aea3d856-114c-4bb9-deb5-5c4cae726efc"
      },
      "execution_count": null,
      "outputs": [
        {
          "output_type": "execute_result",
          "data": {
            "text/plain": [
              "match_id                     0\n",
              "season                       0\n",
              "match_name                   0\n",
              "home_team                    0\n",
              "away_team                    0\n",
              "venue                        0\n",
              "batting_innings              0\n",
              "bowling_innings              0\n",
              "Player_name                  0\n",
              "Starting_11                  0\n",
              "bowling_team_bowl         9900\n",
              "batting_team_bat          6462\n",
              "prev_runs                 6917\n",
              "prev_balls                6917\n",
              "prev_sixes                6917\n",
              "prev_fours                6917\n",
              "prev_wickets             10281\n",
              "prev_conceded            10281\n",
              "prev_Overs_Bowled        10281\n",
              "prev_catches             14934\n",
              "prev_Dream Team            677\n",
              "prev_Total_FP              677\n",
              "prev_overs               10281\n",
              "prev_fielding_heroics    14934\n",
              "prev_duck                    0\n",
              "luck                         0\n",
              "Total_FP                     0\n",
              "dtype: int64"
            ]
          },
          "metadata": {},
          "execution_count": 690
        }
      ]
    },
    {
      "cell_type": "code",
      "source": [
        "#sum of null (NaN) values in test set\n",
        "dftt.isnull().sum()"
      ],
      "metadata": {
        "colab": {
          "base_uri": "https://localhost:8080/"
        },
        "id": "UldAzuvzmKQF",
        "outputId": "c4754258-c95b-4572-b045-a1e000de773b"
      },
      "execution_count": null,
      "outputs": [
        {
          "output_type": "execute_result",
          "data": {
            "text/plain": [
              "match_id                   0\n",
              "season                     0\n",
              "match_name                 0\n",
              "home_team                  0\n",
              "away_team                  0\n",
              "venue                      0\n",
              "batting_innings            0\n",
              "bowling_innings            0\n",
              "Player_name                0\n",
              "Starting_11                0\n",
              "bowling_team_bowl        335\n",
              "batting_team_bat         182\n",
              "prev_runs                206\n",
              "prev_balls               206\n",
              "prev_sixes               206\n",
              "prev_fours               206\n",
              "prev_wickets             355\n",
              "prev_conceded            355\n",
              "prev_Overs_Bowled        355\n",
              "prev_catches             468\n",
              "prev_Dream Team           28\n",
              "prev_Total_FP             28\n",
              "prev_overs               355\n",
              "prev_fielding_heroics    468\n",
              "prev_duck                  0\n",
              "luck                       0\n",
              "dtype: int64"
            ]
          },
          "metadata": {},
          "execution_count": 691
        }
      ]
    },
    {
      "cell_type": "code",
      "source": [
        "#unique values in train set for object type variables\n",
        "unique_counts=dft.select_dtypes(include=['object']).nunique()\n",
        "unique_counts"
      ],
      "metadata": {
        "colab": {
          "base_uri": "https://localhost:8080/"
        },
        "id": "B9K3QFP7mO7Y",
        "outputId": "913594d2-12f2-4bc4-ccab-14ca1b0deb56"
      },
      "execution_count": null,
      "outputs": [
        {
          "output_type": "execute_result",
          "data": {
            "text/plain": [
              "match_name            145\n",
              "home_team              14\n",
              "away_team              14\n",
              "venue                  37\n",
              "Player_name           702\n",
              "bowling_team_bowl      14\n",
              "batting_team_bat       14\n",
              "prev_Overs_Bowled    2163\n",
              "dtype: int64"
            ]
          },
          "metadata": {},
          "execution_count": 692
        }
      ]
    },
    {
      "cell_type": "code",
      "source": [
        "#unique values in prev_Overs_Bowled (also checking object type)\n",
        "dft['prev_Overs_Bowled'].unique()"
      ],
      "metadata": {
        "colab": {
          "base_uri": "https://localhost:8080/"
        },
        "outputId": "313c2ced-8cb9-447c-b897-9d06da40758d",
        "id": "h2BtDXxQn59N"
      },
      "execution_count": null,
      "outputs": [
        {
          "output_type": "execute_result",
          "data": {
            "text/plain": [
              "array([nan, '[11, 17]', '[14, 16]', ..., '[1, 6, 13, 19]',\n",
              "       '[3, 12, 14, 17]', '[1, 10, 15, 17]'], dtype=object)"
            ]
          },
          "metadata": {},
          "execution_count": 693
        }
      ]
    },
    {
      "cell_type": "code",
      "source": [
        "#unique values in Starting_11\n",
        "dft['Starting_11'].nunique()"
      ],
      "metadata": {
        "colab": {
          "base_uri": "https://localhost:8080/"
        },
        "id": "oH3gRJhaYcVT",
        "outputId": "e1955055-ad96-40b6-b32d-570da46d3c1a"
      },
      "execution_count": null,
      "outputs": [
        {
          "output_type": "execute_result",
          "data": {
            "text/plain": [
              "1"
            ]
          },
          "metadata": {},
          "execution_count": 694
        }
      ]
    },
    {
      "cell_type": "code",
      "source": [
        "#checking if any new values are there is test set which were not in train set\n",
        "\n",
        "#in venue column\n",
        "new_venues = set(dftt['venue']).difference(set(dft['venue']))\n",
        "\n",
        "#in the Player_name column\n",
        "new_players = set(dftt['Player_name']).difference(set(dft['Player_name']))\n",
        "\n",
        "if new_venues:\n",
        "    print(\"New venues found:\", new_venues)\n",
        "else:\n",
        "    print(\"No new venues found.\")\n",
        "\n",
        "if new_players:\n",
        "    print(\"New players found:\", new_players)\n",
        "else:\n",
        "    print(\"No new players found.\")\n"
      ],
      "metadata": {
        "colab": {
          "base_uri": "https://localhost:8080/"
        },
        "id": "BQs5kl3cotpW",
        "outputId": "ae04b9f1-654e-4a0d-9c45-b95caeeee7ec"
      },
      "execution_count": null,
      "outputs": [
        {
          "output_type": "stream",
          "name": "stdout",
          "text": [
            "No new venues found.\n",
            "New players found: {'Kedar Devdhar', 'Mohammad Ashraful', 'Doug Bracewell'}\n"
          ]
        }
      ]
    },
    {
      "cell_type": "code",
      "source": [
        "#checking correlation between 'batting_innings' and 'bowling_innings'\n",
        "correlation = dft[['batting_innings', 'bowling_innings']].corr()\n",
        "print(correlation)"
      ],
      "metadata": {
        "colab": {
          "base_uri": "https://localhost:8080/"
        },
        "id": "Uz8LUa-srHVf",
        "outputId": "9fe2f459-e3df-4da8-bb76-c62d91a71a79"
      },
      "execution_count": null,
      "outputs": [
        {
          "output_type": "stream",
          "name": "stdout",
          "text": [
            "                 batting_innings  bowling_innings\n",
            "batting_innings              1.0             -1.0\n",
            "bowling_innings             -1.0              1.0\n"
          ]
        }
      ]
    },
    {
      "cell_type": "code",
      "source": [
        "#dropping columns with high null values and unnecessary inforamtion\n",
        "drop_from_pred = ['match_id','Starting_11','match_name','bowling_team_bowl', 'batting_team_bat', 'prev_wickets', 'prev_conceded',\n",
        "                   'prev_catches','prev_Overs_Bowled','prev_fielding_heroics','prev_overs','bowling_innings','batting_innings']\n",
        "dft.drop(drop_from_pred, axis=1, inplace=True)\n",
        "dftt.drop(drop_from_pred, axis=1, inplace=True)"
      ],
      "metadata": {
        "id": "3U8mevNOphjq"
      },
      "execution_count": null,
      "outputs": []
    },
    {
      "cell_type": "markdown",
      "source": [
        "###Filling NaN values with appropriate values"
      ],
      "metadata": {
        "id": "jomHRZLVr9PL"
      }
    },
    {
      "cell_type": "code",
      "source": [
        "#filling NaN values in 'prev_runs', 'prev_sixes', 'prev_fours', 'prev_balls' by their average values grouped by season\n",
        "#joining train and test sets for better average values\n",
        "dft_concat = pd.concat([dft, dftt], ignore_index=True)\n",
        "\n",
        "#calculating average values for 'prev_runs', 'prev_sixes', 'prev_fours', 'prev_balls' grouped by season\n",
        "for column in ['prev_runs', 'prev_sixes', 'prev_fours','prev_balls']:\n",
        "    avg_values = dft_concat.groupby('season')[column].transform('mean')\n",
        "\n",
        "#filling for train set\n",
        "    dft[column] = dft[column].fillna(avg_values)\n",
        "\n",
        "#filling for test set\n",
        "    dftt[column] = dftt[column].fillna(avg_values)\n"
      ],
      "metadata": {
        "id": "UmsZJKD8Fj1p"
      },
      "execution_count": null,
      "outputs": []
    },
    {
      "cell_type": "code",
      "source": [
        "#filling NaN values in the 'prev_Dream Team' column as 0 in concatenated df\n",
        "dft_concat['prev_Dream Team'] = dft_concat['prev_Dream Team'].fillna(0)\n",
        "#calculating mode of prev_Dream Team dor each player\n",
        "mode_dt_dft = dft_concat.groupby('Player_name')['prev_Dream Team'].apply(lambda x: x.mode().iloc[0])\n",
        "#filling the mode values\n",
        "dft['prev_Dream Team'] = dft['prev_Dream Team'].fillna(dft['Player_name'].map(mode_dt_dft))\n",
        "dftt['prev_Dream Team'] = dftt['prev_Dream Team'].fillna(dftt['Player_name'].map(mode_dt_dft))"
      ],
      "metadata": {
        "id": "-rN_oZfhvxab"
      },
      "execution_count": null,
      "outputs": []
    },
    {
      "cell_type": "code",
      "source": [
        "#calculating the mean 'prev_Total_FP' value for each unique player\n",
        "fp_mean_player_dft = dft_concat.groupby('Player_name')['prev_Total_FP'].mean()\n",
        "\n",
        "#filling column with the mean 'prev_Total_FP' value for each player where NaN\n",
        "dft['prev_Total_FP'] = dft['prev_Total_FP'].fillna(dft['Player_name'].map(fp_mean_player_dft))\n",
        "dftt['prev_Total_FP'] = dftt['prev_Total_FP'].fillna(dftt['Player_name'].map(fp_mean_player_dft))\n",
        "\n",
        "#filling 'prev_Total_FP' with 0 where NaN values are left\n",
        "dft['prev_Total_FP'] = dft['prev_Total_FP'].fillna(0)\n",
        "dftt['prev_Total_FP'] = dftt['prev_Total_FP'].fillna(0)"
      ],
      "metadata": {
        "id": "_fJYm_axQMi1"
      },
      "execution_count": null,
      "outputs": []
    },
    {
      "cell_type": "code",
      "source": [
        "#combining 'Player_name' column from both datasets as some players in test set are missing from train set\n",
        "combined_players = pd.concat([dft['Player_name'], dftt['Player_name']], axis=0)\n",
        "\n",
        "#LabelEncoder initializing\n",
        "label_encoder = LabelEncoder()\n",
        "#fitting LabelEncoder on the combined 'Player_name' column\n",
        "label_encoder.fit(combined_players)\n",
        "\n",
        "#transforming 'Player_name' column of both datasets using the fitted LabelEncoder\n",
        "dft['Player_name_en'] = label_encoder.transform(dft['Player_name'])\n",
        "dftt['Player_name_en'] = label_encoder.transform(dftt['Player_name'])"
      ],
      "metadata": {
        "id": "YT9fnxDL_xY0"
      },
      "execution_count": null,
      "outputs": []
    },
    {
      "cell_type": "code",
      "source": [
        "#dropping original Player_name column\n",
        "dft.drop('Player_name', axis=1, inplace=True)\n",
        "dftt.drop('Player_name', axis=1, inplace=True)"
      ],
      "metadata": {
        "id": "eKSWJLgKAGjw"
      },
      "execution_count": null,
      "outputs": []
    },
    {
      "cell_type": "code",
      "source": [
        "#One hot encoding 'venue','home_team','away_team'\n",
        "dft = pd.get_dummies(dft, columns=['venue','home_team','away_team'], drop_first=True)\n",
        "dftt = pd.get_dummies(dftt, columns=['venue','home_team','away_team'], drop_first=True)"
      ],
      "metadata": {
        "id": "-VmZSfZNALgs"
      },
      "execution_count": null,
      "outputs": []
    },
    {
      "cell_type": "markdown",
      "source": [
        "###Feature engineering"
      ],
      "metadata": {
        "id": "c2QOWJgzAap2"
      }
    },
    {
      "cell_type": "code",
      "source": [
        "# new feature 'strike_rate' which is prev_runs per prev_balls\n",
        "dft['strike_rate'] = dft['prev_runs'] / dft['prev_balls']\n",
        "dft['strike_rate'] = dft['strike_rate'].fillna(0)\n",
        "dftt['strike_rate'] = dftt['prev_runs'] / dft['prev_balls']\n",
        "dftt['strike_rate'] = dftt['strike_rate'].fillna(0)\n",
        "\n",
        "#new feature 'boundary_percentage' which is ((prev_sixes + prev_fours) per prev_runs)*100\n",
        "dft['boundary_percentage'] = ((dft['prev_sixes'] + dft['prev_fours']) / dft['prev_runs']) * 100\n",
        "dft['boundary_percentage'] = dft['boundary_percentage'].fillna(0)\n",
        "dftt['boundary_percentage'] = ((dftt['prev_sixes'] + dftt['prev_fours']) / dftt['prev_runs']) * 100\n",
        "dftt['boundary_percentage'] = dftt['boundary_percentage'].fillna(0)"
      ],
      "metadata": {
        "id": "TAe561kiATrD"
      },
      "execution_count": null,
      "outputs": []
    },
    {
      "cell_type": "code",
      "source": [
        "#replacing large values in test set with 1 dues to erroneous values from new features\n",
        "large_value_threshold = 1e10\n",
        "dftt.replace([np.inf, -np.inf], 1, inplace=True)\n",
        "dftt[dftt > large_value_threshold] = 1"
      ],
      "metadata": {
        "id": "ivr6y3fXBYOI"
      },
      "execution_count": null,
      "outputs": []
    },
    {
      "cell_type": "markdown",
      "source": [
        "###Modelling"
      ],
      "metadata": {
        "id": "QQW-Za65A27S"
      }
    },
    {
      "cell_type": "code",
      "source": [
        "#dividing features and target\n",
        "X = dft.drop(columns=['Total_FP'])\n",
        "y = dft['Total_FP']"
      ],
      "metadata": {
        "id": "8d4iWQsRAz8S"
      },
      "execution_count": null,
      "outputs": []
    },
    {
      "cell_type": "code",
      "source": [
        "#train and test split\n",
        "X_train, X_test, y_train, y_test = train_test_split(X, y, test_size=0.2, random_state=42)"
      ],
      "metadata": {
        "id": "DdAHh8OJA9hE"
      },
      "execution_count": null,
      "outputs": []
    },
    {
      "cell_type": "code",
      "source": [
        "#Random forest regressor\n",
        "rf_model = RandomForestRegressor(n_estimators=100, random_state=42) #initialize\n",
        "rf_model.fit(X_train, y_train) #fit data\n",
        "y_pred = rf_model.predict(X_test) #predict on test set (splitted from train set only)\n",
        "\n",
        "rmse = np.sqrt(mean_squared_error(y_test, y_pred)) #rmse metric calculation\n",
        "print(\"Root Mean Squared Error (RMSE):\", rmse)"
      ],
      "metadata": {
        "colab": {
          "base_uri": "https://localhost:8080/"
        },
        "id": "YqO6GPHmBApi",
        "outputId": "1306c386-b58c-4be1-f677-c7634ed76766"
      },
      "execution_count": null,
      "outputs": [
        {
          "output_type": "stream",
          "name": "stdout",
          "text": [
            "Root Mean Squared Error (RMSE): 32.3219243707387\n"
          ]
        }
      ]
    },
    {
      "cell_type": "code",
      "source": [
        "#prediction on actual test set\n",
        "fp_pred = rf_model.predict(dftt)\n",
        "FP = pd.DataFrame({'Total_FP': fp_pred})"
      ],
      "metadata": {
        "id": "Y4HMcOsQBUAr"
      },
      "execution_count": null,
      "outputs": []
    },
    {
      "cell_type": "code",
      "source": [
        "#predictions of Total_FP on test set\n",
        "FP.head()"
      ],
      "metadata": {
        "colab": {
          "base_uri": "https://localhost:8080/",
          "height": 206
        },
        "id": "wsWfphUjBtoX",
        "outputId": "c53a4f33-cca9-4709-ec7e-720356abb6d7"
      },
      "execution_count": null,
      "outputs": [
        {
          "output_type": "execute_result",
          "data": {
            "text/plain": [
              "   Total_FP\n",
              "0     56.62\n",
              "1     37.48\n",
              "2     45.63\n",
              "3     45.51\n",
              "4     35.19"
            ],
            "text/html": [
              "\n",
              "  <div id=\"df-e95ebe98-d0b2-4403-9eb2-2ec58cc54be7\" class=\"colab-df-container\">\n",
              "    <div>\n",
              "<style scoped>\n",
              "    .dataframe tbody tr th:only-of-type {\n",
              "        vertical-align: middle;\n",
              "    }\n",
              "\n",
              "    .dataframe tbody tr th {\n",
              "        vertical-align: top;\n",
              "    }\n",
              "\n",
              "    .dataframe thead th {\n",
              "        text-align: right;\n",
              "    }\n",
              "</style>\n",
              "<table border=\"1\" class=\"dataframe\">\n",
              "  <thead>\n",
              "    <tr style=\"text-align: right;\">\n",
              "      <th></th>\n",
              "      <th>Total_FP</th>\n",
              "    </tr>\n",
              "  </thead>\n",
              "  <tbody>\n",
              "    <tr>\n",
              "      <th>0</th>\n",
              "      <td>56.62</td>\n",
              "    </tr>\n",
              "    <tr>\n",
              "      <th>1</th>\n",
              "      <td>37.48</td>\n",
              "    </tr>\n",
              "    <tr>\n",
              "      <th>2</th>\n",
              "      <td>45.63</td>\n",
              "    </tr>\n",
              "    <tr>\n",
              "      <th>3</th>\n",
              "      <td>45.51</td>\n",
              "    </tr>\n",
              "    <tr>\n",
              "      <th>4</th>\n",
              "      <td>35.19</td>\n",
              "    </tr>\n",
              "  </tbody>\n",
              "</table>\n",
              "</div>\n",
              "    <div class=\"colab-df-buttons\">\n",
              "\n",
              "  <div class=\"colab-df-container\">\n",
              "    <button class=\"colab-df-convert\" onclick=\"convertToInteractive('df-e95ebe98-d0b2-4403-9eb2-2ec58cc54be7')\"\n",
              "            title=\"Convert this dataframe to an interactive table.\"\n",
              "            style=\"display:none;\">\n",
              "\n",
              "  <svg xmlns=\"http://www.w3.org/2000/svg\" height=\"24px\" viewBox=\"0 -960 960 960\">\n",
              "    <path d=\"M120-120v-720h720v720H120Zm60-500h600v-160H180v160Zm220 220h160v-160H400v160Zm0 220h160v-160H400v160ZM180-400h160v-160H180v160Zm440 0h160v-160H620v160ZM180-180h160v-160H180v160Zm440 0h160v-160H620v160Z\"/>\n",
              "  </svg>\n",
              "    </button>\n",
              "\n",
              "  <style>\n",
              "    .colab-df-container {\n",
              "      display:flex;\n",
              "      gap: 12px;\n",
              "    }\n",
              "\n",
              "    .colab-df-convert {\n",
              "      background-color: #E8F0FE;\n",
              "      border: none;\n",
              "      border-radius: 50%;\n",
              "      cursor: pointer;\n",
              "      display: none;\n",
              "      fill: #1967D2;\n",
              "      height: 32px;\n",
              "      padding: 0 0 0 0;\n",
              "      width: 32px;\n",
              "    }\n",
              "\n",
              "    .colab-df-convert:hover {\n",
              "      background-color: #E2EBFA;\n",
              "      box-shadow: 0px 1px 2px rgba(60, 64, 67, 0.3), 0px 1px 3px 1px rgba(60, 64, 67, 0.15);\n",
              "      fill: #174EA6;\n",
              "    }\n",
              "\n",
              "    .colab-df-buttons div {\n",
              "      margin-bottom: 4px;\n",
              "    }\n",
              "\n",
              "    [theme=dark] .colab-df-convert {\n",
              "      background-color: #3B4455;\n",
              "      fill: #D2E3FC;\n",
              "    }\n",
              "\n",
              "    [theme=dark] .colab-df-convert:hover {\n",
              "      background-color: #434B5C;\n",
              "      box-shadow: 0px 1px 3px 1px rgba(0, 0, 0, 0.15);\n",
              "      filter: drop-shadow(0px 1px 2px rgba(0, 0, 0, 0.3));\n",
              "      fill: #FFFFFF;\n",
              "    }\n",
              "  </style>\n",
              "\n",
              "    <script>\n",
              "      const buttonEl =\n",
              "        document.querySelector('#df-e95ebe98-d0b2-4403-9eb2-2ec58cc54be7 button.colab-df-convert');\n",
              "      buttonEl.style.display =\n",
              "        google.colab.kernel.accessAllowed ? 'block' : 'none';\n",
              "\n",
              "      async function convertToInteractive(key) {\n",
              "        const element = document.querySelector('#df-e95ebe98-d0b2-4403-9eb2-2ec58cc54be7');\n",
              "        const dataTable =\n",
              "          await google.colab.kernel.invokeFunction('convertToInteractive',\n",
              "                                                    [key], {});\n",
              "        if (!dataTable) return;\n",
              "\n",
              "        const docLinkHtml = 'Like what you see? Visit the ' +\n",
              "          '<a target=\"_blank\" href=https://colab.research.google.com/notebooks/data_table.ipynb>data table notebook</a>'\n",
              "          + ' to learn more about interactive tables.';\n",
              "        element.innerHTML = '';\n",
              "        dataTable['output_type'] = 'display_data';\n",
              "        await google.colab.output.renderOutput(dataTable, element);\n",
              "        const docLink = document.createElement('div');\n",
              "        docLink.innerHTML = docLinkHtml;\n",
              "        element.appendChild(docLink);\n",
              "      }\n",
              "    </script>\n",
              "  </div>\n",
              "\n",
              "\n",
              "<div id=\"df-16c7ce43-116a-4832-b9c2-068edda9333b\">\n",
              "  <button class=\"colab-df-quickchart\" onclick=\"quickchart('df-16c7ce43-116a-4832-b9c2-068edda9333b')\"\n",
              "            title=\"Suggest charts\"\n",
              "            style=\"display:none;\">\n",
              "\n",
              "<svg xmlns=\"http://www.w3.org/2000/svg\" height=\"24px\"viewBox=\"0 0 24 24\"\n",
              "     width=\"24px\">\n",
              "    <g>\n",
              "        <path d=\"M19 3H5c-1.1 0-2 .9-2 2v14c0 1.1.9 2 2 2h14c1.1 0 2-.9 2-2V5c0-1.1-.9-2-2-2zM9 17H7v-7h2v7zm4 0h-2V7h2v10zm4 0h-2v-4h2v4z\"/>\n",
              "    </g>\n",
              "</svg>\n",
              "  </button>\n",
              "\n",
              "<style>\n",
              "  .colab-df-quickchart {\n",
              "      --bg-color: #E8F0FE;\n",
              "      --fill-color: #1967D2;\n",
              "      --hover-bg-color: #E2EBFA;\n",
              "      --hover-fill-color: #174EA6;\n",
              "      --disabled-fill-color: #AAA;\n",
              "      --disabled-bg-color: #DDD;\n",
              "  }\n",
              "\n",
              "  [theme=dark] .colab-df-quickchart {\n",
              "      --bg-color: #3B4455;\n",
              "      --fill-color: #D2E3FC;\n",
              "      --hover-bg-color: #434B5C;\n",
              "      --hover-fill-color: #FFFFFF;\n",
              "      --disabled-bg-color: #3B4455;\n",
              "      --disabled-fill-color: #666;\n",
              "  }\n",
              "\n",
              "  .colab-df-quickchart {\n",
              "    background-color: var(--bg-color);\n",
              "    border: none;\n",
              "    border-radius: 50%;\n",
              "    cursor: pointer;\n",
              "    display: none;\n",
              "    fill: var(--fill-color);\n",
              "    height: 32px;\n",
              "    padding: 0;\n",
              "    width: 32px;\n",
              "  }\n",
              "\n",
              "  .colab-df-quickchart:hover {\n",
              "    background-color: var(--hover-bg-color);\n",
              "    box-shadow: 0 1px 2px rgba(60, 64, 67, 0.3), 0 1px 3px 1px rgba(60, 64, 67, 0.15);\n",
              "    fill: var(--button-hover-fill-color);\n",
              "  }\n",
              "\n",
              "  .colab-df-quickchart-complete:disabled,\n",
              "  .colab-df-quickchart-complete:disabled:hover {\n",
              "    background-color: var(--disabled-bg-color);\n",
              "    fill: var(--disabled-fill-color);\n",
              "    box-shadow: none;\n",
              "  }\n",
              "\n",
              "  .colab-df-spinner {\n",
              "    border: 2px solid var(--fill-color);\n",
              "    border-color: transparent;\n",
              "    border-bottom-color: var(--fill-color);\n",
              "    animation:\n",
              "      spin 1s steps(1) infinite;\n",
              "  }\n",
              "\n",
              "  @keyframes spin {\n",
              "    0% {\n",
              "      border-color: transparent;\n",
              "      border-bottom-color: var(--fill-color);\n",
              "      border-left-color: var(--fill-color);\n",
              "    }\n",
              "    20% {\n",
              "      border-color: transparent;\n",
              "      border-left-color: var(--fill-color);\n",
              "      border-top-color: var(--fill-color);\n",
              "    }\n",
              "    30% {\n",
              "      border-color: transparent;\n",
              "      border-left-color: var(--fill-color);\n",
              "      border-top-color: var(--fill-color);\n",
              "      border-right-color: var(--fill-color);\n",
              "    }\n",
              "    40% {\n",
              "      border-color: transparent;\n",
              "      border-right-color: var(--fill-color);\n",
              "      border-top-color: var(--fill-color);\n",
              "    }\n",
              "    60% {\n",
              "      border-color: transparent;\n",
              "      border-right-color: var(--fill-color);\n",
              "    }\n",
              "    80% {\n",
              "      border-color: transparent;\n",
              "      border-right-color: var(--fill-color);\n",
              "      border-bottom-color: var(--fill-color);\n",
              "    }\n",
              "    90% {\n",
              "      border-color: transparent;\n",
              "      border-bottom-color: var(--fill-color);\n",
              "    }\n",
              "  }\n",
              "</style>\n",
              "\n",
              "  <script>\n",
              "    async function quickchart(key) {\n",
              "      const quickchartButtonEl =\n",
              "        document.querySelector('#' + key + ' button');\n",
              "      quickchartButtonEl.disabled = true;  // To prevent multiple clicks.\n",
              "      quickchartButtonEl.classList.add('colab-df-spinner');\n",
              "      try {\n",
              "        const charts = await google.colab.kernel.invokeFunction(\n",
              "            'suggestCharts', [key], {});\n",
              "      } catch (error) {\n",
              "        console.error('Error during call to suggestCharts:', error);\n",
              "      }\n",
              "      quickchartButtonEl.classList.remove('colab-df-spinner');\n",
              "      quickchartButtonEl.classList.add('colab-df-quickchart-complete');\n",
              "    }\n",
              "    (() => {\n",
              "      let quickchartButtonEl =\n",
              "        document.querySelector('#df-16c7ce43-116a-4832-b9c2-068edda9333b button');\n",
              "      quickchartButtonEl.style.display =\n",
              "        google.colab.kernel.accessAllowed ? 'block' : 'none';\n",
              "    })();\n",
              "  </script>\n",
              "</div>\n",
              "\n",
              "    </div>\n",
              "  </div>\n"
            ],
            "application/vnd.google.colaboratory.intrinsic+json": {
              "type": "dataframe",
              "variable_name": "FP",
              "summary": "{\n  \"name\": \"FP\",\n  \"rows\": 709,\n  \"fields\": [\n    {\n      \"column\": \"Total_FP\",\n      \"properties\": {\n        \"dtype\": \"number\",\n        \"std\": 8.338415551703307,\n        \"min\": 17.95,\n        \"max\": 68.95,\n        \"num_unique_values\": 628,\n        \"samples\": [\n          49.68,\n          51.29,\n          47.51\n        ],\n        \"semantic_type\": \"\",\n        \"description\": \"\"\n      }\n    }\n  ]\n}"
            }
          },
          "metadata": {},
          "execution_count": 710
        }
      ]
    },
    {
      "cell_type": "markdown",
      "source": [
        "##Classification Captain/Vice Captain"
      ],
      "metadata": {
        "id": "cgEfH07FCxPq"
      }
    },
    {
      "cell_type": "code",
      "source": [
        "#dropping unnecessary columns or columns with high NaN values\n",
        "dfc_drop = ['match_id','venue','prev_runs', 'prev_balls', 'prev_sixes', 'prev_fours','luck','Starting_11','match_name','bowling_team_bowl', 'batting_team_bat', 'prev_wickets', 'prev_conceded',\n",
        "                   'prev_catches','prev_Overs_Bowled','prev_fielding_heroics','prev_duck','prev_overs','batting_innings','bowling_innings','home_team','away_team']\n",
        "dfc.drop(dfc_drop, axis=1, inplace=True)\n",
        "dfct.drop(dfc_drop, axis=1, inplace=True)\n"
      ],
      "metadata": {
        "id": "enrEffbzB0PK"
      },
      "execution_count": null,
      "outputs": []
    },
    {
      "cell_type": "code",
      "source": [
        "#joining train and test sets\n",
        "dfc_concat = pd.concat([dfc, dfct], ignore_index=True)"
      ],
      "metadata": {
        "id": "nzkERxKRQqol"
      },
      "execution_count": null,
      "outputs": []
    },
    {
      "cell_type": "code",
      "source": [
        "#filling NaN values in the 'prev_Dream Team' column as 0 in concatenated df\n",
        "dfc_concat['prev_Dream Team'] = dfc_concat['prev_Dream Team'].fillna(0)\n",
        "#calculating mode of prev_Dream Team dor each player\n",
        "mode_dt_dfc = dfc_concat.groupby('Player_name')['prev_Dream Team'].apply(lambda x: x.mode().iloc[0])\n",
        "#filling the mode values\n",
        "dfc['prev_Dream Team'] = dfc['prev_Dream Team'].fillna(dfc['Player_name'].map(mode_dt_dfc))\n",
        "dfct['prev_Dream Team'] = dfct['prev_Dream Team'].fillna(dfct['Player_name'].map(mode_dt_dfc))"
      ],
      "metadata": {
        "id": "4YW0nNDcI5B6"
      },
      "execution_count": null,
      "outputs": []
    },
    {
      "cell_type": "code",
      "source": [
        "#calculating the mean 'prev_Total_FP' value for each unique player\n",
        "fp_mean_player_dfc = dfc_concat.groupby('Player_name')['prev_Total_FP'].mean()\n",
        "\n",
        "#filling with the mean 'prev_Total_FP' value for each player\n",
        "dfc['prev_Total_FP'] = dfc['prev_Total_FP'].fillna(dfc['Player_name'].map(fp_mean_player_dfc))\n",
        "dfct['prev_Total_FP'] = dfct['prev_Total_FP'].fillna(dfct['Player_name'].map(fp_mean_player_dfc))\n",
        "\n",
        "#filling 'prev_Total_FP' with 0 where NaN values are left\n",
        "dfc['prev_Total_FP'] = dfc['prev_Total_FP'].fillna(0)\n",
        "dfct['prev_Total_FP'] = dfct['prev_Total_FP'].fillna(0)"
      ],
      "metadata": {
        "id": "d-fIeQwJI5Mo"
      },
      "execution_count": null,
      "outputs": []
    },
    {
      "cell_type": "code",
      "source": [
        "#combining 'Player_name' column from both datasets as some players in test set are missing from train set\n",
        "combined_players_dfc = pd.concat([dfc['Player_name'], dfct['Player_name']], axis=0)\n",
        "\n",
        "#LabelEncoder initializing\n",
        "label_encoder = LabelEncoder()\n",
        "#fitting LabelEncoder on the combined 'Player_name' column\n",
        "label_encoder.fit(combined_players_dfc)\n",
        "\n",
        "#transforming 'Player_name' column of both datasets using the fitted LabelEncoder\n",
        "dfc['Player_name_en'] = label_encoder.transform(dfc['Player_name'])\n",
        "dfct['Player_name_en'] = label_encoder.transform(dfct['Player_name'])\n"
      ],
      "metadata": {
        "id": "bJbgumeRI5Mp"
      },
      "execution_count": null,
      "outputs": []
    },
    {
      "cell_type": "code",
      "source": [
        "#dropping original Player_name column\n",
        "dfc.drop('Player_name', axis=1, inplace=True)\n",
        "dfct.drop('Player_name', axis=1, inplace=True)"
      ],
      "metadata": {
        "id": "RSLmF0jaI5Mp"
      },
      "execution_count": null,
      "outputs": []
    },
    {
      "cell_type": "code",
      "source": [
        "#encoding Captain/Vice Captain\n",
        "dfc['Captain/Vice Captain'] = label_encoder.fit_transform(dfc['Captain/Vice Captain'])"
      ],
      "metadata": {
        "id": "5sDLEBTJI5Mp"
      },
      "execution_count": null,
      "outputs": []
    },
    {
      "cell_type": "markdown",
      "source": [
        "###Modelling"
      ],
      "metadata": {
        "id": "6S4wnKS8ZLw-"
      }
    },
    {
      "cell_type": "code",
      "source": [
        "#dividing features and target\n",
        "X = dfc.drop(columns=['Captain/Vice Captain'])\n",
        "y = dfc['Captain/Vice Captain']"
      ],
      "metadata": {
        "id": "MFMlyeWIYZCv"
      },
      "execution_count": null,
      "outputs": []
    },
    {
      "cell_type": "code",
      "source": [
        "#train and test split\n",
        "X_train, X_test, y_train, y_test = train_test_split(X, y, test_size=0.2, random_state=42)"
      ],
      "metadata": {
        "id": "7HSmvkQvYgmQ"
      },
      "execution_count": null,
      "outputs": []
    },
    {
      "cell_type": "code",
      "source": [
        "#XGBoost classifier\n",
        "xgb_clf = XGBClassifier() #initializing\n",
        "xgb_clf.fit(X_train, y_train) #fit on train data\n",
        "y_pred = xgb_clf.predict(X_test) #predict on test set (splitted from train set only)\n",
        "\n",
        "accuracy = accuracy_score(y_test, y_pred) #accuracy metric\n",
        "print(\"Accuracy:\", accuracy)"
      ],
      "metadata": {
        "colab": {
          "base_uri": "https://localhost:8080/"
        },
        "id": "olt-OxpFDXxL",
        "outputId": "5736b9c7-7e3f-4fd6-cb5e-608e7704efac"
      },
      "execution_count": null,
      "outputs": [
        {
          "output_type": "stream",
          "name": "stdout",
          "text": [
            "Accuracy: 0.9176688251618872\n"
          ]
        }
      ]
    },
    {
      "cell_type": "code",
      "source": [
        "#predictions of Captain/Vice Captain on actual test set\n",
        "cvc_pred = xgb_clf.predict(dfct)\n",
        "CVC = pd.DataFrame({'Captain/Vice Captain': cvc_pred})\n",
        "#decoding Captain/Vice Captain values\n",
        "original_labels = label_encoder.inverse_transform(cvc_pred)\n",
        "CVC['Captain/Vice Captain'] = original_labels\n",
        "#CVC.head()"
      ],
      "metadata": {
        "id": "-iJWCIMRDZvg"
      },
      "execution_count": null,
      "outputs": []
    },
    {
      "cell_type": "code",
      "source": [
        "#making submission file\n",
        "submission_df = pd.concat([sub['match_id'],FP, CVC], axis=1)\n",
        "print(submission_df.info())\n",
        "\n",
        "submission_df.to_csv('submission.csv', index=False)"
      ],
      "metadata": {
        "colab": {
          "base_uri": "https://localhost:8080/"
        },
        "id": "PumKyPEQDb6x",
        "outputId": "52e424d9-1812-4fb4-abd4-5abcdff07d8d"
      },
      "execution_count": null,
      "outputs": [
        {
          "output_type": "stream",
          "name": "stdout",
          "text": [
            "<class 'pandas.core.frame.DataFrame'>\n",
            "RangeIndex: 709 entries, 0 to 708\n",
            "Data columns (total 3 columns):\n",
            " #   Column                Non-Null Count  Dtype  \n",
            "---  ------                --------------  -----  \n",
            " 0   match_id              709 non-null    int64  \n",
            " 1   Total_FP              709 non-null    float64\n",
            " 2   Captain/Vice Captain  709 non-null    object \n",
            "dtypes: float64(1), int64(1), object(1)\n",
            "memory usage: 16.7+ KB\n",
            "None\n"
          ]
        }
      ]
    },
    {
      "cell_type": "code",
      "source": [
        "#end of code"
      ],
      "metadata": {
        "id": "OhybB8D1DiVD"
      },
      "execution_count": null,
      "outputs": []
    }
  ]
}